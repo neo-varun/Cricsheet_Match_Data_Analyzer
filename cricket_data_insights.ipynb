{
 "cells": [
  {
   "cell_type": "markdown",
   "metadata": {},
   "source": [
    "# Cricket Data Exploratory Data Analysis\n",
    "\n",
    "This notebook contains various visualizations analyzing cricket match data across different formats (Test, ODI, T20I, and IPL)."
   ]
  },
  {
   "cell_type": "code",
   "execution_count": 22,
   "metadata": {},
   "outputs": [],
   "source": [
    "import pandas as pd\n",
    "import matplotlib.pyplot as plt\n",
    "import numpy as np\n",
    "import seaborn as sns\n",
    "import plotly.express as px\n",
    "import plotly.graph_objects as go\n",
    "from create_tables import DatabaseHandler"
   ]
  },
  {
   "cell_type": "code",
   "execution_count": null,
   "metadata": {},
   "outputs": [],
   "source": [
    "def load_data():\n",
    "\n",
    "    db = DatabaseHandler()\n",
    "    \n",
    "    queries = {\n",
    "        'test_matches': 'SELECT * FROM test_matches',\n",
    "        'odi_matches': 'SELECT * FROM odi_matches',\n",
    "        't20_matches': 'SELECT * FROM t20_matches',\n",
    "        'ipl_matches': 'SELECT * FROM ipl_matches',\n",
    "        'test_deliveries': 'SELECT * FROM test_deliveries',\n",
    "        'odi_deliveries': 'SELECT * FROM odi_deliveries',\n",
    "        't20_deliveries': 'SELECT * FROM t20_deliveries',\n",
    "        'ipl_deliveries': 'SELECT * FROM ipl_deliveries'\n",
    "    }\n",
    "    \n",
    "    dataframes = {}\n",
    "    for table_name, query in queries.items():\n",
    "        try:\n",
    "            dataframes[table_name] = pd.read_sql(query, db.connection)\n",
    "        except Exception as e:\n",
    "            print(f\"Error loading {table_name}: {e}\")\n",
    "    \n",
    "    db.close_connection()\n",
    "    return dataframes\n",
    "\n",
    "print(\"Loading data from database...\")\n",
    "data = load_data()"
   ]
  },
  {
   "cell_type": "markdown",
   "metadata": {},
   "source": [
    "### Distribution of Matches Across Different Formats"
   ]
  },
  {
   "cell_type": "code",
   "execution_count": null,
   "metadata": {},
   "outputs": [],
   "source": [
    "format_counts = {\n",
    "    'Test': len(data['test_matches']),\n",
    "    'ODI': len(data['odi_matches']),\n",
    "    'T20I': len(data['t20_matches']),\n",
    "    'IPL': len(data['ipl_matches'])\n",
    "}\n",
    "\n",
    "plt.figure(figsize=(10, 6))\n",
    "colors = ['#2ecc71', '#3498db', '#e74c3c', '#f1c40f']\n",
    "plt.bar(format_counts.keys(), format_counts.values(), color=colors)\n",
    "plt.title('Distribution of Matches Across Different Formats', pad=20)\n",
    "plt.ylabel('Number of Matches')\n",
    "for i, v in enumerate(format_counts.values()):\n",
    "    plt.text(i, v + 30, str(v), ha='center')\n",
    "plt.show()"
   ]
  },
  {
   "cell_type": "markdown",
   "metadata": {},
   "source": [
    "### Toss Decisions Across Formats"
   ]
  },
  {
   "cell_type": "code",
   "execution_count": null,
   "metadata": {},
   "outputs": [],
   "source": [
    "formats = ['test_matches', 'odi_matches', 't20_matches', 'ipl_matches']\n",
    "toss_data = []\n",
    "\n",
    "for format_name in formats:\n",
    "    df = data[format_name]\n",
    "    toss_counts = df['toss_decision'].value_counts()\n",
    "    for decision, count in toss_counts.items():\n",
    "        toss_data.append({\n",
    "            'Format': format_name.split('_')[0].upper(),\n",
    "            'Decision': decision.capitalize(),\n",
    "            'Count': count\n",
    "        })\n",
    "\n",
    "df_toss = pd.DataFrame(toss_data)\n",
    "fig = px.bar(df_toss, x='Format', y='Count', color='Decision',\n",
    "             title='Toss Decisions Across Formats',\n",
    "             barmode='group')\n",
    "fig.show()"
   ]
  },
  {
   "cell_type": "markdown",
   "metadata": {},
   "source": [
    "### Win Percentage After Winning Toss"
   ]
  },
  {
   "cell_type": "code",
   "execution_count": null,
   "metadata": {},
   "outputs": [],
   "source": [
    "formats = ['test_matches', 'odi_matches', 't20_matches', 'ipl_matches']\n",
    "win_percentages = []\n",
    "\n",
    "for format_name in formats:\n",
    "    df = data[format_name]\n",
    "    winner_col = 'winner'\n",
    "    if format_name == 'test_matches':\n",
    "        winner_col = 'outcome_winner'\n",
    "    \n",
    "    toss_winners = df[df['toss_winner'] == df[winner_col]].shape[0]\n",
    "    total_matches = df.shape[0]\n",
    "    win_percentages.append((toss_winners / total_matches) * 100)\n",
    "\n",
    "plt.figure(figsize=(12, 6))\n",
    "sns.barplot(x=[f.split('_')[0].upper() for f in formats], y=win_percentages)\n",
    "plt.title('Win Percentage After Winning Toss')\n",
    "plt.ylabel('Win Percentage')\n",
    "for i, v in enumerate(win_percentages):\n",
    "    plt.text(i, v + 1, f'{v:.1f}%', ha='center')\n",
    "plt.show()"
   ]
  },
  {
   "cell_type": "markdown",
   "metadata": {},
   "source": [
    "### Runs Distribution Across Formats"
   ]
  },
  {
   "cell_type": "code",
   "execution_count": null,
   "metadata": {},
   "outputs": [],
   "source": [
    "formats = ['test_deliveries', 'odi_deliveries', 't20_deliveries', 'ipl_deliveries']\n",
    "runs_list = []\n",
    "format_list = []\n",
    "\n",
    "for format_name in formats:\n",
    "    df = data[format_name]\n",
    "    runs_list.extend(df['runs_total'].tolist())\n",
    "    format_list.extend([format_name.split('_')[0].upper()] * len(df))\n",
    "\n",
    "df_violin = pd.DataFrame({\n",
    "    'Format': format_list,\n",
    "    'Runs': runs_list\n",
    "})\n",
    "\n",
    "plt.figure(figsize=(12, 6))\n",
    "sns.violinplot(x='Format', y='Runs', data=df_violin)\n",
    "plt.title('Distribution of Runs Scored per Ball Across Formats')\n",
    "plt.ylabel('Runs per Ball')\n",
    "plt.show()"
   ]
  },
  {
   "cell_type": "markdown",
   "metadata": {},
   "source": [
    "### Distribution of Winning Margins in IPL"
   ]
  },
  {
   "cell_type": "code",
   "execution_count": null,
   "metadata": {},
   "outputs": [],
   "source": [
    "ipl_df = data['ipl_matches'].copy()\n",
    "\n",
    "ipl_df['win_margin_type'] = ipl_df.apply(lambda row: 'Runs' if row.get('win_by_runs', 0) > 0 \n",
    "                                           else ('Wickets' if row.get('win_by_wickets', 0) > 0 else np.nan), axis=1)\n",
    "\n",
    "runs_margin = ipl_df[ipl_df['win_margin_type'] == 'Runs']['win_by_runs']\n",
    "wickets_margin = ipl_df[ipl_df['win_margin_type'] == 'Wickets']['win_by_wickets']\n",
    "\n",
    "plt.figure(figsize=(12, 5))\n",
    "\n",
    "plt.subplot(1,2,1)\n",
    "sns.histplot(runs_margin, bins=20, kde=True, color='skyblue')\n",
    "plt.title('Distribution of Win Margins by Runs')\n",
    "plt.xlabel('Win Margin (Runs)')\n",
    "\n",
    "plt.subplot(1,2,2)\n",
    "sns.histplot(wickets_margin, bins=20, kde=True, color='salmon')\n",
    "plt.title('Distribution of Win Margins by Wickets')\n",
    "plt.xlabel('Win Margin (Wickets)')\n",
    "\n",
    "plt.tight_layout()\n",
    "plt.show()"
   ]
  },
  {
   "cell_type": "markdown",
   "metadata": {},
   "source": [
    "### Distribution of Wicket Types"
   ]
  },
  {
   "cell_type": "code",
   "execution_count": null,
   "metadata": {},
   "outputs": [],
   "source": [
    "wicket_data = []\n",
    "for format_name in ['test_deliveries', 'odi_deliveries', 't20_deliveries', 'ipl_deliveries']:\n",
    "    df = data[format_name]\n",
    "    wickets = df[df['wicket_kind'].notna()]['wicket_kind'].value_counts()\n",
    "    for wicket_type, count in wickets.items():\n",
    "        wicket_data.append({\n",
    "            'Format': format_name.split('_')[0].upper(),\n",
    "            'Wicket Type': wicket_type,\n",
    "            'Count': count\n",
    "        })\n",
    "\n",
    "df_wickets = pd.DataFrame(wicket_data)\n",
    "\n",
    "fig = px.bar(\n",
    "    df_wickets,\n",
    "    x=\"Format\",\n",
    "    y=\"Count\",\n",
    "    color=\"Wicket Type\",\n",
    "    title=\"Distribution of Wicket Types Across Formats\",\n",
    "    barmode=\"group\"\n",
    ")\n",
    "fig.show()"
   ]
  },
  {
   "cell_type": "markdown",
   "metadata": {},
   "source": [
    "### Comparison of Extras Across Formats"
   ]
  },
  {
   "cell_type": "code",
   "execution_count": null,
   "metadata": {},
   "outputs": [],
   "source": [
    "extras_data = []\n",
    "for format_name in ['test_deliveries', 'odi_deliveries', 't20_deliveries', 'ipl_deliveries']:\n",
    "    df = data[format_name]\n",
    "    extras = {\n",
    "        'Format': format_name.split('_')[0].upper(),\n",
    "        'Wides': df['extras_wides'].sum(),\n",
    "        'No Balls': df['extras_noballs'].sum(),\n",
    "        'Byes': df['extras_byes'].sum(),\n",
    "        'Leg Byes': df['extras_legbyes'].sum()\n",
    "    }\n",
    "    extras_data.append(extras)\n",
    "\n",
    "df_extras = pd.DataFrame(extras_data)\n",
    "fig = go.Figure()\n",
    "for extra_type in ['Wides', 'No Balls', 'Byes', 'Leg Byes']:\n",
    "    fig.add_trace(go.Bar(name=extra_type, x=df_extras['Format'], y=df_extras[extra_type]))\n",
    "\n",
    "fig.update_layout(barmode='stack', title='Comparison of Extras Across Formats')\n",
    "fig.show()"
   ]
  },
  {
   "cell_type": "markdown",
   "metadata": {},
   "source": [
    "### Seasonal Trend of Matches"
   ]
  },
  {
   "cell_type": "code",
   "execution_count": null,
   "metadata": {},
   "outputs": [],
   "source": [
    "plt.figure(figsize=(15, 6))\n",
    "for format_name in ['test_matches', 'odi_matches', 't20_matches', 'ipl_matches']:\n",
    "    df = data[format_name]\n",
    "    df['year'] = pd.to_datetime(df['date']).dt.year\n",
    "    yearly_counts = df['year'].value_counts().sort_index()\n",
    "    plt.plot(yearly_counts.index, yearly_counts.values, label=format_name.split('_')[0].upper(), marker='o')\n",
    "\n",
    "plt.title('Seasonal Trend of Matches')\n",
    "plt.xlabel('Year')\n",
    "plt.ylabel('Number of Matches')\n",
    "plt.legend()\n",
    "plt.grid(True)\n",
    "plt.show()"
   ]
  },
  {
   "cell_type": "markdown",
   "metadata": {},
   "source": [
    "### Top Teams in International Cricket"
   ]
  },
  {
   "cell_type": "code",
   "execution_count": null,
   "metadata": {},
   "outputs": [],
   "source": [
    "team_wins = {}\n",
    "for format_name in ['test_matches', 'odi_matches', 't20_matches']:\n",
    "    df = data[format_name]\n",
    "\n",
    "    if format_name == 'test_matches':\n",
    "        wins = df['outcome_winner'].value_counts()\n",
    "    else:\n",
    "        wins = df['winner'].value_counts()\n",
    "        \n",
    "    for team, count in wins.items():\n",
    "        team_wins[team] = team_wins.get(team, 0) + count\n",
    "\n",
    "top_teams = dict(sorted(team_wins.items(), key=lambda x: x[1], reverse=True)[:10])\n",
    "\n",
    "plt.figure(figsize=(12, 6))\n",
    "colors = sns.color_palette('husl', n_colors=len(top_teams))\n",
    "plt.pie(top_teams.values(), labels=top_teams.keys(), colors=colors, autopct='%1.1f%%')\n",
    "plt.title('Top 10 Teams by Wins in International Cricket')\n",
    "plt.show()"
   ]
  },
  {
   "cell_type": "markdown",
   "metadata": {},
   "source": [
    "### IPL Winning Methods by Season"
   ]
  },
  {
   "cell_type": "code",
   "execution_count": null,
   "metadata": {},
   "outputs": [],
   "source": [
    "ipl_df = data['ipl_matches'].copy()\n",
    "ipl_df['season'] = pd.to_datetime(ipl_df['date']).dt.year\n",
    "\n",
    "def decide_margin(row):\n",
    "    if row.get('win_by_runs', 0) > 0:\n",
    "        return 'Runs'\n",
    "    elif row.get('win_by_wickets', 0) > 0:\n",
    "        return 'Wickets'\n",
    "    else:\n",
    "        return 'Other'\n",
    "\n",
    "ipl_df['decided_by'] = ipl_df.apply(decide_margin, axis=1)\n",
    "\n",
    "margin_trend = ipl_df.groupby(['season', 'decided_by']).size().reset_index(name='count')\n",
    "\n",
    "margin_trend_pivot = margin_trend.pivot(index='season', columns='decided_by', values='count').fillna(0)\n",
    "\n",
    "plt.figure(figsize=(12, 6))\n",
    "margin_trend_pivot.plot(kind='bar', stacked=True, colormap='viridis', ax=plt.gca())\n",
    "plt.title('Trend of IPL Match Winning Methods by Season')\n",
    "plt.xlabel('Season')\n",
    "plt.ylabel('Number of Matches')\n",
    "plt.legend(title='Decided By')\n",
    "plt.tight_layout()\n",
    "plt.show()"
   ]
  }
 ],
 "metadata": {
  "kernelspec": {
   "display_name": "base",
   "language": "python",
   "name": "python3"
  },
  "language_info": {
   "codemirror_mode": {
    "name": "ipython",
    "version": 3
   },
   "file_extension": ".py",
   "mimetype": "text/x-python",
   "name": "python",
   "nbconvert_exporter": "python",
   "pygments_lexer": "ipython3",
   "version": "3.12.7"
  }
 },
 "nbformat": 4,
 "nbformat_minor": 4
}
